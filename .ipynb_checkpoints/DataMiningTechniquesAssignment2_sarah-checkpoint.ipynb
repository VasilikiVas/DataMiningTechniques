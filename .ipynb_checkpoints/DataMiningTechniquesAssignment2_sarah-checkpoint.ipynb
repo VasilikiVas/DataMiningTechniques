{
 "cells": [
  {
   "cell_type": "markdown",
   "metadata": {
    "id": "AdtIJGzYdkcX"
   },
   "source": [
    "# ***TASK 2: DATA UNDERSTANDING***"
   ]
  },
  {
   "cell_type": "markdown",
   "metadata": {
    "id": "XcjY5qtC42zH"
   },
   "source": [
    "**Load Data**"
   ]
  },
  {
   "cell_type": "code",
   "execution_count": 1,
   "metadata": {
    "id": "mOlvSG9seUn2"
   },
   "outputs": [],
   "source": [
    "import pandas as pd\n",
    "import numpy as np\n",
    "import matplotlib.pyplot as plt\n",
    "import seaborn as sns"
   ]
  },
  {
   "cell_type": "code",
   "execution_count": 2,
   "metadata": {
    "colab": {
     "base_uri": "https://localhost:8080/",
     "height": 835
    },
    "id": "xsqg8JNXxHzq",
    "outputId": "9754386f-a212-4188-84bb-97fd5b4d8b18"
   },
   "outputs": [
    {
     "data": {
      "text/html": [
       "<div>\n",
       "<style scoped>\n",
       "    .dataframe tbody tr th:only-of-type {\n",
       "        vertical-align: middle;\n",
       "    }\n",
       "\n",
       "    .dataframe tbody tr th {\n",
       "        vertical-align: top;\n",
       "    }\n",
       "\n",
       "    .dataframe thead th {\n",
       "        text-align: right;\n",
       "    }\n",
       "</style>\n",
       "<table border=\"1\" class=\"dataframe\">\n",
       "  <thead>\n",
       "    <tr style=\"text-align: right;\">\n",
       "      <th></th>\n",
       "      <th>srch_id</th>\n",
       "      <th>date_time</th>\n",
       "      <th>site_id</th>\n",
       "      <th>visitor_location_country_id</th>\n",
       "      <th>visitor_hist_starrating</th>\n",
       "      <th>visitor_hist_adr_usd</th>\n",
       "      <th>prop_country_id</th>\n",
       "      <th>prop_id</th>\n",
       "      <th>prop_starrating</th>\n",
       "      <th>prop_review_score</th>\n",
       "      <th>...</th>\n",
       "      <th>comp6_rate_percent_diff</th>\n",
       "      <th>comp7_rate</th>\n",
       "      <th>comp7_inv</th>\n",
       "      <th>comp7_rate_percent_diff</th>\n",
       "      <th>comp8_rate</th>\n",
       "      <th>comp8_inv</th>\n",
       "      <th>comp8_rate_percent_diff</th>\n",
       "      <th>click_bool</th>\n",
       "      <th>gross_bookings_usd</th>\n",
       "      <th>booking_bool</th>\n",
       "    </tr>\n",
       "  </thead>\n",
       "  <tbody>\n",
       "    <tr>\n",
       "      <th>0</th>\n",
       "      <td>1</td>\n",
       "      <td>2013-04-04 08:32:15</td>\n",
       "      <td>12</td>\n",
       "      <td>187</td>\n",
       "      <td>NaN</td>\n",
       "      <td>NaN</td>\n",
       "      <td>219</td>\n",
       "      <td>893</td>\n",
       "      <td>3</td>\n",
       "      <td>3.5</td>\n",
       "      <td>...</td>\n",
       "      <td>NaN</td>\n",
       "      <td>NaN</td>\n",
       "      <td>NaN</td>\n",
       "      <td>NaN</td>\n",
       "      <td>0.0</td>\n",
       "      <td>0.0</td>\n",
       "      <td>NaN</td>\n",
       "      <td>0</td>\n",
       "      <td>NaN</td>\n",
       "      <td>0</td>\n",
       "    </tr>\n",
       "    <tr>\n",
       "      <th>1</th>\n",
       "      <td>1</td>\n",
       "      <td>2013-04-04 08:32:15</td>\n",
       "      <td>12</td>\n",
       "      <td>187</td>\n",
       "      <td>NaN</td>\n",
       "      <td>NaN</td>\n",
       "      <td>219</td>\n",
       "      <td>10404</td>\n",
       "      <td>4</td>\n",
       "      <td>4.0</td>\n",
       "      <td>...</td>\n",
       "      <td>NaN</td>\n",
       "      <td>NaN</td>\n",
       "      <td>NaN</td>\n",
       "      <td>NaN</td>\n",
       "      <td>0.0</td>\n",
       "      <td>0.0</td>\n",
       "      <td>NaN</td>\n",
       "      <td>0</td>\n",
       "      <td>NaN</td>\n",
       "      <td>0</td>\n",
       "    </tr>\n",
       "    <tr>\n",
       "      <th>2</th>\n",
       "      <td>1</td>\n",
       "      <td>2013-04-04 08:32:15</td>\n",
       "      <td>12</td>\n",
       "      <td>187</td>\n",
       "      <td>NaN</td>\n",
       "      <td>NaN</td>\n",
       "      <td>219</td>\n",
       "      <td>21315</td>\n",
       "      <td>3</td>\n",
       "      <td>4.5</td>\n",
       "      <td>...</td>\n",
       "      <td>NaN</td>\n",
       "      <td>NaN</td>\n",
       "      <td>NaN</td>\n",
       "      <td>NaN</td>\n",
       "      <td>0.0</td>\n",
       "      <td>0.0</td>\n",
       "      <td>NaN</td>\n",
       "      <td>0</td>\n",
       "      <td>NaN</td>\n",
       "      <td>0</td>\n",
       "    </tr>\n",
       "    <tr>\n",
       "      <th>3</th>\n",
       "      <td>1</td>\n",
       "      <td>2013-04-04 08:32:15</td>\n",
       "      <td>12</td>\n",
       "      <td>187</td>\n",
       "      <td>NaN</td>\n",
       "      <td>NaN</td>\n",
       "      <td>219</td>\n",
       "      <td>27348</td>\n",
       "      <td>2</td>\n",
       "      <td>4.0</td>\n",
       "      <td>...</td>\n",
       "      <td>NaN</td>\n",
       "      <td>NaN</td>\n",
       "      <td>NaN</td>\n",
       "      <td>NaN</td>\n",
       "      <td>-1.0</td>\n",
       "      <td>0.0</td>\n",
       "      <td>5.0</td>\n",
       "      <td>0</td>\n",
       "      <td>NaN</td>\n",
       "      <td>0</td>\n",
       "    </tr>\n",
       "    <tr>\n",
       "      <th>4</th>\n",
       "      <td>1</td>\n",
       "      <td>2013-04-04 08:32:15</td>\n",
       "      <td>12</td>\n",
       "      <td>187</td>\n",
       "      <td>NaN</td>\n",
       "      <td>NaN</td>\n",
       "      <td>219</td>\n",
       "      <td>29604</td>\n",
       "      <td>4</td>\n",
       "      <td>3.5</td>\n",
       "      <td>...</td>\n",
       "      <td>NaN</td>\n",
       "      <td>NaN</td>\n",
       "      <td>NaN</td>\n",
       "      <td>NaN</td>\n",
       "      <td>0.0</td>\n",
       "      <td>0.0</td>\n",
       "      <td>NaN</td>\n",
       "      <td>0</td>\n",
       "      <td>NaN</td>\n",
       "      <td>0</td>\n",
       "    </tr>\n",
       "    <tr>\n",
       "      <th>...</th>\n",
       "      <td>...</td>\n",
       "      <td>...</td>\n",
       "      <td>...</td>\n",
       "      <td>...</td>\n",
       "      <td>...</td>\n",
       "      <td>...</td>\n",
       "      <td>...</td>\n",
       "      <td>...</td>\n",
       "      <td>...</td>\n",
       "      <td>...</td>\n",
       "      <td>...</td>\n",
       "      <td>...</td>\n",
       "      <td>...</td>\n",
       "      <td>...</td>\n",
       "      <td>...</td>\n",
       "      <td>...</td>\n",
       "      <td>...</td>\n",
       "      <td>...</td>\n",
       "      <td>...</td>\n",
       "      <td>...</td>\n",
       "      <td>...</td>\n",
       "    </tr>\n",
       "    <tr>\n",
       "      <th>4958342</th>\n",
       "      <td>332785</td>\n",
       "      <td>2013-06-30 19:55:18</td>\n",
       "      <td>5</td>\n",
       "      <td>219</td>\n",
       "      <td>NaN</td>\n",
       "      <td>NaN</td>\n",
       "      <td>219</td>\n",
       "      <td>77700</td>\n",
       "      <td>3</td>\n",
       "      <td>4.0</td>\n",
       "      <td>...</td>\n",
       "      <td>NaN</td>\n",
       "      <td>NaN</td>\n",
       "      <td>NaN</td>\n",
       "      <td>NaN</td>\n",
       "      <td>NaN</td>\n",
       "      <td>NaN</td>\n",
       "      <td>NaN</td>\n",
       "      <td>0</td>\n",
       "      <td>NaN</td>\n",
       "      <td>0</td>\n",
       "    </tr>\n",
       "    <tr>\n",
       "      <th>4958343</th>\n",
       "      <td>332785</td>\n",
       "      <td>2013-06-30 19:55:18</td>\n",
       "      <td>5</td>\n",
       "      <td>219</td>\n",
       "      <td>NaN</td>\n",
       "      <td>NaN</td>\n",
       "      <td>219</td>\n",
       "      <td>88083</td>\n",
       "      <td>3</td>\n",
       "      <td>4.0</td>\n",
       "      <td>...</td>\n",
       "      <td>NaN</td>\n",
       "      <td>NaN</td>\n",
       "      <td>NaN</td>\n",
       "      <td>NaN</td>\n",
       "      <td>NaN</td>\n",
       "      <td>NaN</td>\n",
       "      <td>NaN</td>\n",
       "      <td>0</td>\n",
       "      <td>NaN</td>\n",
       "      <td>0</td>\n",
       "    </tr>\n",
       "    <tr>\n",
       "      <th>4958344</th>\n",
       "      <td>332785</td>\n",
       "      <td>2013-06-30 19:55:18</td>\n",
       "      <td>5</td>\n",
       "      <td>219</td>\n",
       "      <td>NaN</td>\n",
       "      <td>NaN</td>\n",
       "      <td>219</td>\n",
       "      <td>94508</td>\n",
       "      <td>3</td>\n",
       "      <td>3.5</td>\n",
       "      <td>...</td>\n",
       "      <td>NaN</td>\n",
       "      <td>NaN</td>\n",
       "      <td>NaN</td>\n",
       "      <td>NaN</td>\n",
       "      <td>NaN</td>\n",
       "      <td>NaN</td>\n",
       "      <td>NaN</td>\n",
       "      <td>0</td>\n",
       "      <td>NaN</td>\n",
       "      <td>0</td>\n",
       "    </tr>\n",
       "    <tr>\n",
       "      <th>4958345</th>\n",
       "      <td>332785</td>\n",
       "      <td>2013-06-30 19:55:18</td>\n",
       "      <td>5</td>\n",
       "      <td>219</td>\n",
       "      <td>NaN</td>\n",
       "      <td>NaN</td>\n",
       "      <td>219</td>\n",
       "      <td>128360</td>\n",
       "      <td>3</td>\n",
       "      <td>5.0</td>\n",
       "      <td>...</td>\n",
       "      <td>NaN</td>\n",
       "      <td>NaN</td>\n",
       "      <td>NaN</td>\n",
       "      <td>NaN</td>\n",
       "      <td>NaN</td>\n",
       "      <td>NaN</td>\n",
       "      <td>NaN</td>\n",
       "      <td>1</td>\n",
       "      <td>157.84</td>\n",
       "      <td>1</td>\n",
       "    </tr>\n",
       "    <tr>\n",
       "      <th>4958346</th>\n",
       "      <td>332785</td>\n",
       "      <td>2013-06-30 19:55:18</td>\n",
       "      <td>5</td>\n",
       "      <td>219</td>\n",
       "      <td>NaN</td>\n",
       "      <td>NaN</td>\n",
       "      <td>219</td>\n",
       "      <td>134949</td>\n",
       "      <td>3</td>\n",
       "      <td>2.5</td>\n",
       "      <td>...</td>\n",
       "      <td>NaN</td>\n",
       "      <td>NaN</td>\n",
       "      <td>NaN</td>\n",
       "      <td>NaN</td>\n",
       "      <td>NaN</td>\n",
       "      <td>NaN</td>\n",
       "      <td>NaN</td>\n",
       "      <td>0</td>\n",
       "      <td>NaN</td>\n",
       "      <td>0</td>\n",
       "    </tr>\n",
       "  </tbody>\n",
       "</table>\n",
       "<p>4958347 rows × 54 columns</p>\n",
       "</div>"
      ],
      "text/plain": [
       "         srch_id            date_time  site_id  visitor_location_country_id  \\\n",
       "0              1  2013-04-04 08:32:15       12                          187   \n",
       "1              1  2013-04-04 08:32:15       12                          187   \n",
       "2              1  2013-04-04 08:32:15       12                          187   \n",
       "3              1  2013-04-04 08:32:15       12                          187   \n",
       "4              1  2013-04-04 08:32:15       12                          187   \n",
       "...          ...                  ...      ...                          ...   \n",
       "4958342   332785  2013-06-30 19:55:18        5                          219   \n",
       "4958343   332785  2013-06-30 19:55:18        5                          219   \n",
       "4958344   332785  2013-06-30 19:55:18        5                          219   \n",
       "4958345   332785  2013-06-30 19:55:18        5                          219   \n",
       "4958346   332785  2013-06-30 19:55:18        5                          219   \n",
       "\n",
       "         visitor_hist_starrating  visitor_hist_adr_usd  prop_country_id  \\\n",
       "0                            NaN                   NaN              219   \n",
       "1                            NaN                   NaN              219   \n",
       "2                            NaN                   NaN              219   \n",
       "3                            NaN                   NaN              219   \n",
       "4                            NaN                   NaN              219   \n",
       "...                          ...                   ...              ...   \n",
       "4958342                      NaN                   NaN              219   \n",
       "4958343                      NaN                   NaN              219   \n",
       "4958344                      NaN                   NaN              219   \n",
       "4958345                      NaN                   NaN              219   \n",
       "4958346                      NaN                   NaN              219   \n",
       "\n",
       "         prop_id  prop_starrating  prop_review_score  ...  \\\n",
       "0            893                3                3.5  ...   \n",
       "1          10404                4                4.0  ...   \n",
       "2          21315                3                4.5  ...   \n",
       "3          27348                2                4.0  ...   \n",
       "4          29604                4                3.5  ...   \n",
       "...          ...              ...                ...  ...   \n",
       "4958342    77700                3                4.0  ...   \n",
       "4958343    88083                3                4.0  ...   \n",
       "4958344    94508                3                3.5  ...   \n",
       "4958345   128360                3                5.0  ...   \n",
       "4958346   134949                3                2.5  ...   \n",
       "\n",
       "         comp6_rate_percent_diff  comp7_rate  comp7_inv  \\\n",
       "0                            NaN         NaN        NaN   \n",
       "1                            NaN         NaN        NaN   \n",
       "2                            NaN         NaN        NaN   \n",
       "3                            NaN         NaN        NaN   \n",
       "4                            NaN         NaN        NaN   \n",
       "...                          ...         ...        ...   \n",
       "4958342                      NaN         NaN        NaN   \n",
       "4958343                      NaN         NaN        NaN   \n",
       "4958344                      NaN         NaN        NaN   \n",
       "4958345                      NaN         NaN        NaN   \n",
       "4958346                      NaN         NaN        NaN   \n",
       "\n",
       "         comp7_rate_percent_diff  comp8_rate  comp8_inv  \\\n",
       "0                            NaN         0.0        0.0   \n",
       "1                            NaN         0.0        0.0   \n",
       "2                            NaN         0.0        0.0   \n",
       "3                            NaN        -1.0        0.0   \n",
       "4                            NaN         0.0        0.0   \n",
       "...                          ...         ...        ...   \n",
       "4958342                      NaN         NaN        NaN   \n",
       "4958343                      NaN         NaN        NaN   \n",
       "4958344                      NaN         NaN        NaN   \n",
       "4958345                      NaN         NaN        NaN   \n",
       "4958346                      NaN         NaN        NaN   \n",
       "\n",
       "         comp8_rate_percent_diff  click_bool  gross_bookings_usd  booking_bool  \n",
       "0                            NaN           0                 NaN             0  \n",
       "1                            NaN           0                 NaN             0  \n",
       "2                            NaN           0                 NaN             0  \n",
       "3                            5.0           0                 NaN             0  \n",
       "4                            NaN           0                 NaN             0  \n",
       "...                          ...         ...                 ...           ...  \n",
       "4958342                      NaN           0                 NaN             0  \n",
       "4958343                      NaN           0                 NaN             0  \n",
       "4958344                      NaN           0                 NaN             0  \n",
       "4958345                      NaN           1              157.84             1  \n",
       "4958346                      NaN           0                 NaN             0  \n",
       "\n",
       "[4958347 rows x 54 columns]"
      ]
     },
     "execution_count": 2,
     "metadata": {},
     "output_type": "execute_result"
    }
   ],
   "source": [
    "df = pd.read_csv ('training_set_VU_DM.csv')\n",
    "df"
   ]
  },
  {
   "cell_type": "code",
   "execution_count": 3,
   "metadata": {
    "colab": {
     "base_uri": "https://localhost:8080/",
     "height": 394
    },
    "id": "YKIeB91EbjA_",
    "outputId": "0f8b8114-e13f-4699-de76-9d9ba220a160"
   },
   "outputs": [
    {
     "data": {
      "text/html": [
       "<div>\n",
       "<style scoped>\n",
       "    .dataframe tbody tr th:only-of-type {\n",
       "        vertical-align: middle;\n",
       "    }\n",
       "\n",
       "    .dataframe tbody tr th {\n",
       "        vertical-align: top;\n",
       "    }\n",
       "\n",
       "    .dataframe thead th {\n",
       "        text-align: right;\n",
       "    }\n",
       "</style>\n",
       "<table border=\"1\" class=\"dataframe\">\n",
       "  <thead>\n",
       "    <tr style=\"text-align: right;\">\n",
       "      <th></th>\n",
       "      <th>srch_id</th>\n",
       "      <th>site_id</th>\n",
       "      <th>visitor_location_country_id</th>\n",
       "      <th>visitor_hist_starrating</th>\n",
       "      <th>visitor_hist_adr_usd</th>\n",
       "      <th>prop_country_id</th>\n",
       "      <th>prop_id</th>\n",
       "      <th>prop_starrating</th>\n",
       "      <th>prop_review_score</th>\n",
       "      <th>prop_brand_bool</th>\n",
       "      <th>...</th>\n",
       "      <th>comp6_rate_percent_diff</th>\n",
       "      <th>comp7_rate</th>\n",
       "      <th>comp7_inv</th>\n",
       "      <th>comp7_rate_percent_diff</th>\n",
       "      <th>comp8_rate</th>\n",
       "      <th>comp8_inv</th>\n",
       "      <th>comp8_rate_percent_diff</th>\n",
       "      <th>click_bool</th>\n",
       "      <th>gross_bookings_usd</th>\n",
       "      <th>booking_bool</th>\n",
       "    </tr>\n",
       "  </thead>\n",
       "  <tbody>\n",
       "    <tr>\n",
       "      <th>count</th>\n",
       "      <td>4.958347e+06</td>\n",
       "      <td>4.958347e+06</td>\n",
       "      <td>4.958347e+06</td>\n",
       "      <td>251866.000000</td>\n",
       "      <td>252988.000000</td>\n",
       "      <td>4.958347e+06</td>\n",
       "      <td>4.958347e+06</td>\n",
       "      <td>4.958347e+06</td>\n",
       "      <td>4.950983e+06</td>\n",
       "      <td>4.958347e+06</td>\n",
       "      <td>...</td>\n",
       "      <td>96174.000000</td>\n",
       "      <td>315348.000000</td>\n",
       "      <td>356422.000000</td>\n",
       "      <td>138515.000000</td>\n",
       "      <td>1.916654e+06</td>\n",
       "      <td>1.987503e+06</td>\n",
       "      <td>614730.000000</td>\n",
       "      <td>4.958347e+06</td>\n",
       "      <td>138390.000000</td>\n",
       "      <td>4.958347e+06</td>\n",
       "    </tr>\n",
       "    <tr>\n",
       "      <th>mean</th>\n",
       "      <td>1.663666e+05</td>\n",
       "      <td>9.953133e+00</td>\n",
       "      <td>1.753405e+02</td>\n",
       "      <td>3.374334</td>\n",
       "      <td>176.022659</td>\n",
       "      <td>1.739739e+02</td>\n",
       "      <td>7.007918e+04</td>\n",
       "      <td>3.180525e+00</td>\n",
       "      <td>3.777777e+00</td>\n",
       "      <td>6.346994e-01</td>\n",
       "      <td>...</td>\n",
       "      <td>17.250473</td>\n",
       "      <td>0.145969</td>\n",
       "      <td>0.083202</td>\n",
       "      <td>19.433267</td>\n",
       "      <td>-6.089936e-02</td>\n",
       "      <td>9.962752e-03</td>\n",
       "      <td>22.430384</td>\n",
       "      <td>4.474858e-02</td>\n",
       "      <td>386.283316</td>\n",
       "      <td>2.791051e-02</td>\n",
       "    </tr>\n",
       "    <tr>\n",
       "      <th>std</th>\n",
       "      <td>9.611223e+04</td>\n",
       "      <td>7.646890e+00</td>\n",
       "      <td>6.591625e+01</td>\n",
       "      <td>0.692519</td>\n",
       "      <td>107.254493</td>\n",
       "      <td>6.834525e+01</td>\n",
       "      <td>4.060992e+04</td>\n",
       "      <td>1.051024e+00</td>\n",
       "      <td>1.050329e+00</td>\n",
       "      <td>4.815144e-01</td>\n",
       "      <td>...</td>\n",
       "      <td>31.160313</td>\n",
       "      <td>0.578202</td>\n",
       "      <td>0.316722</td>\n",
       "      <td>54.370221</td>\n",
       "      <td>4.691723e-01</td>\n",
       "      <td>2.029142e-01</td>\n",
       "      <td>895.965854</td>\n",
       "      <td>2.067514e-01</td>\n",
       "      <td>821.190577</td>\n",
       "      <td>1.647165e-01</td>\n",
       "    </tr>\n",
       "    <tr>\n",
       "      <th>min</th>\n",
       "      <td>1.000000e+00</td>\n",
       "      <td>1.000000e+00</td>\n",
       "      <td>1.000000e+00</td>\n",
       "      <td>1.410000</td>\n",
       "      <td>0.000000</td>\n",
       "      <td>1.000000e+00</td>\n",
       "      <td>1.000000e+00</td>\n",
       "      <td>0.000000e+00</td>\n",
       "      <td>0.000000e+00</td>\n",
       "      <td>0.000000e+00</td>\n",
       "      <td>...</td>\n",
       "      <td>2.000000</td>\n",
       "      <td>-1.000000</td>\n",
       "      <td>-1.000000</td>\n",
       "      <td>2.000000</td>\n",
       "      <td>-1.000000e+00</td>\n",
       "      <td>-1.000000e+00</td>\n",
       "      <td>2.000000</td>\n",
       "      <td>0.000000e+00</td>\n",
       "      <td>0.000000</td>\n",
       "      <td>0.000000e+00</td>\n",
       "    </tr>\n",
       "    <tr>\n",
       "      <th>25%</th>\n",
       "      <td>8.293600e+04</td>\n",
       "      <td>5.000000e+00</td>\n",
       "      <td>1.000000e+02</td>\n",
       "      <td>2.920000</td>\n",
       "      <td>109.810000</td>\n",
       "      <td>1.000000e+02</td>\n",
       "      <td>3.501000e+04</td>\n",
       "      <td>3.000000e+00</td>\n",
       "      <td>3.500000e+00</td>\n",
       "      <td>0.000000e+00</td>\n",
       "      <td>...</td>\n",
       "      <td>6.000000</td>\n",
       "      <td>0.000000</td>\n",
       "      <td>0.000000</td>\n",
       "      <td>7.000000</td>\n",
       "      <td>0.000000e+00</td>\n",
       "      <td>0.000000e+00</td>\n",
       "      <td>7.000000</td>\n",
       "      <td>0.000000e+00</td>\n",
       "      <td>124.000000</td>\n",
       "      <td>0.000000e+00</td>\n",
       "    </tr>\n",
       "    <tr>\n",
       "      <th>50%</th>\n",
       "      <td>1.665070e+05</td>\n",
       "      <td>5.000000e+00</td>\n",
       "      <td>2.190000e+02</td>\n",
       "      <td>3.450000</td>\n",
       "      <td>152.240000</td>\n",
       "      <td>2.190000e+02</td>\n",
       "      <td>6.963800e+04</td>\n",
       "      <td>3.000000e+00</td>\n",
       "      <td>4.000000e+00</td>\n",
       "      <td>1.000000e+00</td>\n",
       "      <td>...</td>\n",
       "      <td>11.000000</td>\n",
       "      <td>0.000000</td>\n",
       "      <td>0.000000</td>\n",
       "      <td>12.000000</td>\n",
       "      <td>0.000000e+00</td>\n",
       "      <td>0.000000e+00</td>\n",
       "      <td>11.000000</td>\n",
       "      <td>0.000000e+00</td>\n",
       "      <td>218.400000</td>\n",
       "      <td>0.000000e+00</td>\n",
       "    </tr>\n",
       "    <tr>\n",
       "      <th>75%</th>\n",
       "      <td>2.497240e+05</td>\n",
       "      <td>1.400000e+01</td>\n",
       "      <td>2.190000e+02</td>\n",
       "      <td>3.930000</td>\n",
       "      <td>213.490000</td>\n",
       "      <td>2.190000e+02</td>\n",
       "      <td>1.051680e+05</td>\n",
       "      <td>4.000000e+00</td>\n",
       "      <td>4.500000e+00</td>\n",
       "      <td>1.000000e+00</td>\n",
       "      <td>...</td>\n",
       "      <td>18.000000</td>\n",
       "      <td>1.000000</td>\n",
       "      <td>0.000000</td>\n",
       "      <td>20.000000</td>\n",
       "      <td>0.000000e+00</td>\n",
       "      <td>0.000000e+00</td>\n",
       "      <td>17.000000</td>\n",
       "      <td>0.000000e+00</td>\n",
       "      <td>429.790000</td>\n",
       "      <td>0.000000e+00</td>\n",
       "    </tr>\n",
       "    <tr>\n",
       "      <th>max</th>\n",
       "      <td>3.327850e+05</td>\n",
       "      <td>3.400000e+01</td>\n",
       "      <td>2.310000e+02</td>\n",
       "      <td>5.000000</td>\n",
       "      <td>1958.700000</td>\n",
       "      <td>2.300000e+02</td>\n",
       "      <td>1.408210e+05</td>\n",
       "      <td>5.000000e+00</td>\n",
       "      <td>5.000000e+00</td>\n",
       "      <td>1.000000e+00</td>\n",
       "      <td>...</td>\n",
       "      <td>1620.000000</td>\n",
       "      <td>1.000000</td>\n",
       "      <td>1.000000</td>\n",
       "      <td>9900.000000</td>\n",
       "      <td>1.000000e+00</td>\n",
       "      <td>1.000000e+00</td>\n",
       "      <td>149400.000000</td>\n",
       "      <td>1.000000e+00</td>\n",
       "      <td>159292.380000</td>\n",
       "      <td>1.000000e+00</td>\n",
       "    </tr>\n",
       "  </tbody>\n",
       "</table>\n",
       "<p>8 rows × 53 columns</p>\n",
       "</div>"
      ],
      "text/plain": [
       "            srch_id       site_id  visitor_location_country_id  \\\n",
       "count  4.958347e+06  4.958347e+06                 4.958347e+06   \n",
       "mean   1.663666e+05  9.953133e+00                 1.753405e+02   \n",
       "std    9.611223e+04  7.646890e+00                 6.591625e+01   \n",
       "min    1.000000e+00  1.000000e+00                 1.000000e+00   \n",
       "25%    8.293600e+04  5.000000e+00                 1.000000e+02   \n",
       "50%    1.665070e+05  5.000000e+00                 2.190000e+02   \n",
       "75%    2.497240e+05  1.400000e+01                 2.190000e+02   \n",
       "max    3.327850e+05  3.400000e+01                 2.310000e+02   \n",
       "\n",
       "       visitor_hist_starrating  visitor_hist_adr_usd  prop_country_id  \\\n",
       "count            251866.000000         252988.000000     4.958347e+06   \n",
       "mean                  3.374334            176.022659     1.739739e+02   \n",
       "std                   0.692519            107.254493     6.834525e+01   \n",
       "min                   1.410000              0.000000     1.000000e+00   \n",
       "25%                   2.920000            109.810000     1.000000e+02   \n",
       "50%                   3.450000            152.240000     2.190000e+02   \n",
       "75%                   3.930000            213.490000     2.190000e+02   \n",
       "max                   5.000000           1958.700000     2.300000e+02   \n",
       "\n",
       "            prop_id  prop_starrating  prop_review_score  prop_brand_bool  ...  \\\n",
       "count  4.958347e+06     4.958347e+06       4.950983e+06     4.958347e+06  ...   \n",
       "mean   7.007918e+04     3.180525e+00       3.777777e+00     6.346994e-01  ...   \n",
       "std    4.060992e+04     1.051024e+00       1.050329e+00     4.815144e-01  ...   \n",
       "min    1.000000e+00     0.000000e+00       0.000000e+00     0.000000e+00  ...   \n",
       "25%    3.501000e+04     3.000000e+00       3.500000e+00     0.000000e+00  ...   \n",
       "50%    6.963800e+04     3.000000e+00       4.000000e+00     1.000000e+00  ...   \n",
       "75%    1.051680e+05     4.000000e+00       4.500000e+00     1.000000e+00  ...   \n",
       "max    1.408210e+05     5.000000e+00       5.000000e+00     1.000000e+00  ...   \n",
       "\n",
       "       comp6_rate_percent_diff     comp7_rate      comp7_inv  \\\n",
       "count             96174.000000  315348.000000  356422.000000   \n",
       "mean                 17.250473       0.145969       0.083202   \n",
       "std                  31.160313       0.578202       0.316722   \n",
       "min                   2.000000      -1.000000      -1.000000   \n",
       "25%                   6.000000       0.000000       0.000000   \n",
       "50%                  11.000000       0.000000       0.000000   \n",
       "75%                  18.000000       1.000000       0.000000   \n",
       "max                1620.000000       1.000000       1.000000   \n",
       "\n",
       "       comp7_rate_percent_diff    comp8_rate     comp8_inv  \\\n",
       "count            138515.000000  1.916654e+06  1.987503e+06   \n",
       "mean                 19.433267 -6.089936e-02  9.962752e-03   \n",
       "std                  54.370221  4.691723e-01  2.029142e-01   \n",
       "min                   2.000000 -1.000000e+00 -1.000000e+00   \n",
       "25%                   7.000000  0.000000e+00  0.000000e+00   \n",
       "50%                  12.000000  0.000000e+00  0.000000e+00   \n",
       "75%                  20.000000  0.000000e+00  0.000000e+00   \n",
       "max                9900.000000  1.000000e+00  1.000000e+00   \n",
       "\n",
       "       comp8_rate_percent_diff    click_bool  gross_bookings_usd  booking_bool  \n",
       "count            614730.000000  4.958347e+06       138390.000000  4.958347e+06  \n",
       "mean                 22.430384  4.474858e-02          386.283316  2.791051e-02  \n",
       "std                 895.965854  2.067514e-01          821.190577  1.647165e-01  \n",
       "min                   2.000000  0.000000e+00            0.000000  0.000000e+00  \n",
       "25%                   7.000000  0.000000e+00          124.000000  0.000000e+00  \n",
       "50%                  11.000000  0.000000e+00          218.400000  0.000000e+00  \n",
       "75%                  17.000000  0.000000e+00          429.790000  0.000000e+00  \n",
       "max              149400.000000  1.000000e+00       159292.380000  1.000000e+00  \n",
       "\n",
       "[8 rows x 53 columns]"
      ]
     },
     "execution_count": 3,
     "metadata": {},
     "output_type": "execute_result"
    }
   ],
   "source": [
    "df.describe()"
   ]
  },
  {
   "cell_type": "markdown",
   "metadata": {
    "id": "WWuEzJy75B5h"
   },
   "source": [
    "**Count and remove Nan-values**"
   ]
  },
  {
   "cell_type": "code",
   "execution_count": 4,
   "metadata": {
    "colab": {
     "base_uri": "https://localhost:8080/"
    },
    "id": "fu81x278zb4A",
    "outputId": "3714f594-3f4e-4e52-ffbd-c12fcd13964a"
   },
   "outputs": [
    {
     "name": "stdout",
     "output_type": "stream",
     "text": [
      "28 26\n"
     ]
    }
   ],
   "source": [
    "count = 0\n",
    "non_nan = 0\n",
    "d = {}\n",
    "for column in df:\n",
    "  perc_NaN = df[column].isna().sum() / len(df[column])\n",
    "  d[column] = perc_NaN\n",
    "  if perc_NaN > 0.5:\n",
    "    count += 1\n",
    "    df = df.drop(columns=column)\n",
    "  else:\n",
    "    non_nan += 1\n",
    "print(count, non_nan)"
   ]
  },
  {
   "cell_type": "code",
   "execution_count": 5,
   "metadata": {
    "colab": {
     "base_uri": "https://localhost:8080/",
     "height": 443
    },
    "id": "VoyOemJ49MDj",
    "outputId": "d0017f61-d7b3-4ac9-f757-759d1f6f7ad9"
   },
   "outputs": [
    {
     "data": {
      "image/png": "[encoded data removed]",
      "text/plain": [
       "<Figure size 1296x360 with 1 Axes>"
      ]
     },
     "metadata": {
      "needs_background": "light"
     },
     "output_type": "display_data"
    }
   ],
   "source": [
    "sorted_tuples = sorted(d.items(), key=lambda item: item[1])\n",
    "d = {k: v for k, v in sorted_tuples}\n",
    "f, ax = plt.subplots(figsize=(18,5))\n",
    "plt.bar(range(len(d)), list(d.values()), align='center')\n",
    "plt.xticks(range(len(d)), list(d.keys()), rotation = 90)\n",
    "\n",
    "plt.show()"
   ]
  },
  {
   "cell_type": "markdown",
   "metadata": {
    "id": "32DGHeBp5a4n"
   },
   "source": [
    "**Correlations**"
   ]
  },
  {
   "cell_type": "code",
   "execution_count": null,
   "metadata": {
    "colab": {
     "base_uri": "https://localhost:8080/",
     "height": 1000
    },
    "id": "uulvqEEMxNk7",
    "outputId": "96b5fa81-bef6-432f-d4da-511be2614057"
   },
   "outputs": [],
   "source": [
    "correlation = df.corr()\n",
    "plt.figure(figsize=(18, 18))\n",
    "sns.heatmap(correlation, vmax=1, square=True,annot=True,cmap='viridis')\n",
    "plt.title('Correlation between different features')"
   ]
  },
  {
   "cell_type": "markdown",
   "metadata": {
    "id": "VsLQkW7p5p4l"
   },
   "source": [
    "**Property values**"
   ]
  },
  {
   "cell_type": "code",
   "execution_count": null,
   "metadata": {
    "id": "M-MQHBmQZ2NA"
   },
   "outputs": [],
   "source": [
    "df_prop = df.copy()\n",
    "remove_list = ['srch_id', 'date_time', 'site_id', 'visitor_location_country_id', 'prop_country_id', 'prop_id', 'prop_brand_bool', 'position', 'price_usd', 'promotion_flag', 'srch_destination_id', 'srch_saturday_night_bool', 'random_bool', 'click_bool', 'booking_bool']\n",
    "prop_list = ['srch_length_of_stay', 'srch_booking_window', 'srch_adults_count', 'srch_children_count', 'srch_room_count', 'orig_destination_distance']\n",
    "df_prop = df_prop.drop(columns=remove_list)\n",
    "df_prop = df_prop.drop(columns=prop_list)"
   ]
  },
  {
   "cell_type": "code",
   "execution_count": null,
   "metadata": {
    "colab": {
     "base_uri": "https://localhost:8080/",
     "height": 593
    },
    "id": "YoAqdu8-RU82",
    "outputId": "1d4b99fd-45ca-4df8-ec96-885e760b19ab"
   },
   "outputs": [],
   "source": [
    "colors = ['orchid','blue','yellow','red', 'orange']\n",
    "fig,ax = plt.subplots(figsize=(12,9)) \n",
    "ax,props = df_prop.plot.box(patch_artist=True, return_type='both', ax=ax)\n",
    "for patch,color in zip(props['boxes'],colors):\n",
    "    patch.set_facecolor(color)\n",
    "plt.show()"
   ]
  },
  {
   "cell_type": "markdown",
   "metadata": {
    "id": "NGWABYP-5vCd"
   },
   "source": [
    "**Length of stay**"
   ]
  },
  {
   "cell_type": "code",
   "execution_count": null,
   "metadata": {
    "colab": {
     "base_uri": "https://localhost:8080/",
     "height": 320
    },
    "id": "3HnHKf-rm8RJ",
    "outputId": "941db53f-5fd4-4cb3-97b6-443392fba5d1"
   },
   "outputs": [],
   "source": [
    "fig,ax = plt.subplots(figsize=(18,5)) \n",
    "boxplot = df.boxplot(column='srch_length_of_stay', patch_artist=True, vert=False)"
   ]
  },
  {
   "cell_type": "markdown",
   "metadata": {
    "id": "kfGO5_Uh5zyx"
   },
   "source": [
    "**Booking window**"
   ]
  },
  {
   "cell_type": "code",
   "execution_count": null,
   "metadata": {
    "colab": {
     "base_uri": "https://localhost:8080/",
     "height": 320
    },
    "id": "ugmoo_7gnwtv",
    "outputId": "1df4fb32-3434-4015-9e3e-567de8305802"
   },
   "outputs": [],
   "source": [
    "fig,ax = plt.subplots(figsize=(18,5)) \n",
    "boxplot = df.boxplot(column='srch_booking_window', patch_artist=True, vert=False)"
   ]
  },
  {
   "cell_type": "markdown",
   "metadata": {
    "id": "zud6DVGP53-i"
   },
   "source": [
    "**Site, visitor location, property location**"
   ]
  },
  {
   "cell_type": "code",
   "execution_count": null,
   "metadata": {
    "colab": {
     "base_uri": "https://localhost:8080/",
     "height": 854
    },
    "id": "cYdVN39DflK8",
    "outputId": "536b0d30-e927-41cd-f9c4-e633668b1bb7"
   },
   "outputs": [],
   "source": [
    "id_list = ['site_id', 'visitor_location_country_id', 'prop_country_id']\n",
    "for id in id_list:\n",
    "  n, bins, patches = plt.hist(df[id], 100, density = 1, facecolor='blue', alpha=0.75)\n",
    "  plt.xlabel(id)\n",
    "  plt.title('Histogram of '+id)\n",
    "  plt.show();"
   ]
  },
  {
   "cell_type": "markdown",
   "metadata": {
    "id": "RYXHAW296DAY"
   },
   "source": [
    "**Booking and non-booking price**"
   ]
  },
  {
   "cell_type": "code",
   "execution_count": null,
   "metadata": {
    "colab": {
     "base_uri": "https://localhost:8080/",
     "height": 289
    },
    "id": "ED8yWblgHV6f",
    "outputId": "9ce22f13-2f99-4e71-9c9f-d820f146b618"
   },
   "outputs": [],
   "source": [
    "sns.set(style=\"ticks\", palette=\"deep\")\n",
    "ax = sns.boxplot(x=\"booking_bool\", y='price_usd', hue='booking_bool', data=df)\n",
    "ax.set_ylim([0, 200]);"
   ]
  },
  {
   "cell_type": "markdown",
   "metadata": {
    "id": "kioFP_Sg6HrB"
   },
   "source": [
    "**Click and non-click price**"
   ]
  },
  {
   "cell_type": "code",
   "execution_count": null,
   "metadata": {
    "colab": {
     "base_uri": "https://localhost:8080/",
     "height": 289
    },
    "id": "-BA4E0GHGnJy",
    "outputId": "839cc327-f539-42d7-e4cb-45f3c3717e5e"
   },
   "outputs": [],
   "source": [
    "sns.set(style=\"ticks\", palette=\"pastel\")\n",
    "ax = sns.boxplot(x=\"click_bool\", y=\"price_usd\", hue=\"click_bool\", data=df)\n",
    "ax.set_ylim([0, 200]);"
   ]
  },
  {
   "cell_type": "markdown",
   "metadata": {
    "id": "FS3l5hWg6KkI"
   },
   "source": [
    "**Destination distance**"
   ]
  },
  {
   "cell_type": "code",
   "execution_count": null,
   "metadata": {
    "id": "hcZhfbgiF3fb"
   },
   "outputs": [],
   "source": [
    "df['orig_destination_distance_range'] = pd.cut(\n",
    "    df['orig_destination_distance'],\n",
    "    bins= [0,100,200,300,400,500,600,700,800,900,1000,1100,1200,1300,1400,11667],\n",
    "    labels=['0-100', '101-200','201-300',\n",
    "            '301-400', '401-500','501-600',\n",
    "            '601-700', '701-800','801-900',\n",
    "            '901-1000', '1001-1100','1101-1200',\n",
    "            '1201-1300', '1301-1400', '>1400']\n",
    ")"
   ]
  },
  {
   "cell_type": "code",
   "execution_count": null,
   "metadata": {
    "colab": {
     "base_uri": "https://localhost:8080/",
     "height": 351
    },
    "id": "pmmfEMMRF5ZY",
    "outputId": "b02331f0-77a7-40b7-cf49-68c2710bfa65"
   },
   "outputs": [],
   "source": [
    "count_classes = pd.value_counts(df['orig_destination_distance_range'], sort = True).sort_index()/len(df)\n",
    "f, ax = plt.subplots(figsize=(16,4))\n",
    "count_classes.plot(kind = 'bar', color='aqua')\n",
    "plt.title(\"Destination Distance Range\")\n",
    "plt.ylabel(\"Percentage\")"
   ]
  },
  {
   "cell_type": "markdown",
   "metadata": {
    "id": "OB-WPIIx6NXw"
   },
   "source": [
    "**Price range**"
   ]
  },
  {
   "cell_type": "code",
   "execution_count": null,
   "metadata": {
    "id": "ATTz8SJmEdwL"
   },
   "outputs": [],
   "source": [
    "df['price_usd_range'] = pd.cut(\n",
    "    df['price_usd'],\n",
    "    bins= [0,50,100,150,200,250,300,350,400,450,500,550,600,650,700,750,800,850,19726329],\n",
    "    labels=['0-50', '51-100','100-150', \n",
    "            '151-200', '201-250', '251-300',\n",
    "            '301-350', '351-400', '401-450', \n",
    "            '451-500', '501-550', '551-600', \n",
    "            '601-650','651-700', '701-750',\n",
    "            '751-800', '801-850', '>850']\n",
    ")"
   ]
  },
  {
   "cell_type": "code",
   "execution_count": null,
   "metadata": {
    "colab": {
     "base_uri": "https://localhost:8080/",
     "height": 337
    },
    "id": "7XGnwOid84xZ",
    "outputId": "7c217f21-90c6-48f9-b835-8f57ff8558a8"
   },
   "outputs": [],
   "source": [
    "count_classes = pd.value_counts(df['price_usd_range'], sort = True).sort_index()/len(df)\n",
    "f, ax = plt.subplots(figsize=(16,4))\n",
    "count_classes.plot(kind = 'bar', color='deeppink')\n",
    "plt.title(\"Price Range\")\n",
    "plt.ylabel(\"Percentage\")"
   ]
  },
  {
   "cell_type": "markdown",
   "metadata": {
    "id": "r7YckAgE6PrH"
   },
   "source": [
    "**Number of adults and children**"
   ]
  },
  {
   "cell_type": "code",
   "execution_count": null,
   "metadata": {
    "colab": {
     "base_uri": "https://localhost:8080/",
     "height": 298
    },
    "id": "8GxaQ1HzAmNP",
    "outputId": "c0880369-66ba-429c-ca2f-da6ac4069b51"
   },
   "outputs": [],
   "source": [
    "count_classes = pd.value_counts(df['srch_adults_count'], sort = True).sort_index()/len(df)\n",
    "f, ax = plt.subplots(figsize=(9,4))\n",
    "count_classes.plot(kind = 'bar', color='red')\n",
    "plt.title(\"Adults Count\")\n",
    "plt.ylabel(\"Percentage\")"
   ]
  },
  {
   "cell_type": "code",
   "execution_count": null,
   "metadata": {
    "colab": {
     "base_uri": "https://localhost:8080/",
     "height": 298
    },
    "id": "dWu6Fce3BDbE",
    "outputId": "2acb134e-3892-4fe1-c294-96ec5fbb9087"
   },
   "outputs": [],
   "source": [
    "count_classes = pd.value_counts(df['srch_children_count'], sort = True).sort_index()/len(df)\n",
    "f, ax = plt.subplots(figsize=(9,4))\n",
    "count_classes.plot(kind = 'bar', color='green')\n",
    "plt.title(\"Children Count\")\n",
    "plt.ylabel(\"Percentage\")"
   ]
  },
  {
   "cell_type": "code",
   "execution_count": null,
   "metadata": {
    "colab": {
     "base_uri": "https://localhost:8080/",
     "height": 309
    },
    "id": "xlGN8wP0BS3Y",
    "outputId": "c5b72512-ee6d-4cb7-accc-2761e7072e4f"
   },
   "outputs": [],
   "source": [
    "df['family'] = df['srch_adults_count'].astype(str) +\"-\"+ df['srch_children_count'].astype(str)\n",
    "f, ax = plt.subplots(figsize=(16,4))\n",
    "count_classes = pd.value_counts(df['family'], sort = True).sort_index()/len(df)\n",
    "count_classes.plot(kind = 'bar', color = 'blue')\n",
    "plt.title(\"Adult-Children\")\n",
    "plt.ylabel(\"Percentage\")"
   ]
  },
  {
   "cell_type": "markdown",
   "metadata": {
    "id": "u-hrHxfD6Xcl"
   },
   "source": [
    "**Position in query**"
   ]
  },
  {
   "cell_type": "code",
   "execution_count": null,
   "metadata": {
    "colab": {
     "base_uri": "https://localhost:8080/",
     "height": 305
    },
    "id": "KxZNnh5R8PxE",
    "outputId": "c732e1ba-abb9-4d2b-c801-d283514c2e87",
    "scrolled": true
   },
   "outputs": [],
   "source": [
    "count_classes = pd.value_counts(df['position'], sort = True).sort_index()/len(df)\n",
    "f, ax = plt.subplots(figsize=(16,4))\n",
    "count_classes.plot(kind = 'bar', color='teal')\n",
    "plt.title(\"Position\")\n",
    "plt.ylabel(\"Percentage\")"
   ]
  },
  {
   "cell_type": "code",
   "execution_count": null,
   "metadata": {
    "colab": {
     "base_uri": "https://localhost:8080/",
     "height": 302
    },
    "id": "E82ISGu_8ORi",
    "outputId": "d839fd6e-038c-47cd-daeb-f1db31cec9d0"
   },
   "outputs": [],
   "source": [
    "df_sorted_booked = df[(df['random_bool'] == 0) & (df['booking_bool'] == 1)]\n",
    "df_sorted_clicked = df[(df['random_bool'] == 0) & (df['click_bool'] == 1)]\n",
    "\n",
    "sns.histplot(data=df_sorted_booked, x=\"position\", color=\"red\", label=\"booking\", discrete=True, alpha=1)\n",
    "sns.histplot(data=df_sorted_clicked, x=\"position\", color=\"blue\", label=\"clicked\", discrete=True, alpha=0.3)\n",
    "\n",
    "plt.legend()"
   ]
  },
  {
   "cell_type": "code",
   "execution_count": null,
   "metadata": {
    "colab": {
     "base_uri": "https://localhost:8080/",
     "height": 302
    },
    "id": "HcWBSZ3wHEVE",
    "outputId": "59f8bd4e-5cfa-41c2-d4f1-9e25c8124748"
   },
   "outputs": [],
   "source": [
    "df_random_booked = df[(df['random_bool'] == 1) & (df['booking_bool'] == 1)]\n",
    "df_random_clicked = df[(df['random_bool'] == 1) & (df['click_bool'] == 1)]\n",
    "\n",
    "sns.histplot(data=df_random_booked, x=\"position\", color=\"red\", label=\"booking\", discrete=True, alpha=1)\n",
    "sns.histplot(data=df_random_clicked, x=\"position\", color=\"blue\", label=\"clicked\", discrete=True, alpha=0.3)\n",
    "\n",
    "plt.legend()"
   ]
  },
  {
   "cell_type": "markdown",
   "metadata": {
    "id": "5zxa72dh6aLU"
   },
   "source": [
    "**Promotion**"
   ]
  },
  {
   "cell_type": "code",
   "execution_count": null,
   "metadata": {
    "colab": {
     "base_uri": "https://localhost:8080/",
     "height": 298
    },
    "id": "SmAiT1MDw4dX",
    "outputId": "8e1c8b25-41a6-4178-ac81-70c677f18141"
   },
   "outputs": [],
   "source": [
    "count_classes = pd.value_counts(df['promotion_flag'], sort = True).sort_index()/len(df)\n",
    "count_classes.plot(kind = 'bar', color='darkred')\n",
    "plt.title(\"Promotion Flag or Not\")\n",
    "plt.ylabel(\"Percentage\")"
   ]
  },
  {
   "cell_type": "markdown",
   "metadata": {
    "id": "TfZ_oWsi6buq"
   },
   "source": [
    "**Independent property or belonging to chain**"
   ]
  },
  {
   "cell_type": "code",
   "execution_count": null,
   "metadata": {
    "colab": {
     "base_uri": "https://localhost:8080/",
     "height": 298
    },
    "id": "jNQxtn2Y7eGM",
    "outputId": "ff022256-7d1f-4493-9a61-549e3c4e00e2"
   },
   "outputs": [],
   "source": [
    "count_classes = pd.value_counts(df['prop_brand_bool'], sort = True).sort_index()/len(df)\n",
    "count_classes.plot(kind = 'bar', color='navy')\n",
    "plt.title(\"Independent hotel or Not\")\n",
    "plt.ylabel(\"Percentage\")"
   ]
  },
  {
   "cell_type": "markdown",
   "metadata": {
    "id": "2BDNUo-U6lcV"
   },
   "source": [
    "**Saturday night**"
   ]
  },
  {
   "cell_type": "code",
   "execution_count": null,
   "metadata": {
    "colab": {
     "base_uri": "https://localhost:8080/",
     "height": 298
    },
    "id": "UXqhscPcDttN",
    "outputId": "db5f82eb-a012-4d00-a2c1-18fe9a402241"
   },
   "outputs": [],
   "source": [
    "count_classes = pd.value_counts(df['srch_saturday_night_bool'], sort = True).sort_index()/len(df)\n",
    "count_classes.plot(kind = 'bar', color='olive')\n",
    "plt.title(\"Suturday night or Not\")\n",
    "plt.ylabel(\"Percentage\")"
   ]
  },
  {
   "cell_type": "markdown",
   "metadata": {
    "id": "xXuRWy2D6qbx"
   },
   "source": [
    "**Random or sorted**"
   ]
  },
  {
   "cell_type": "code",
   "execution_count": null,
   "metadata": {
    "colab": {
     "base_uri": "https://localhost:8080/",
     "height": 298
    },
    "id": "EnPVMGHLIe2F",
    "outputId": "55ad7368-3465-4d26-fef2-49fd1539390f"
   },
   "outputs": [],
   "source": [
    "count_classes = pd.value_counts(df['random_bool'], sort = True).sort_index()/len(df)\n",
    "count_classes.plot(kind = 'bar', color='lavender')\n",
    "plt.title(\"Sorted or Not\")\n",
    "plt.ylabel(\"Percentage\")"
   ]
  },
  {
   "cell_type": "markdown",
   "metadata": {
    "id": "Jwo6fxoX6sWs"
   },
   "source": [
    "**Searches over time periods**"
   ]
  },
  {
   "cell_type": "code",
   "execution_count": 4,
   "metadata": {
    "id": "7riG-Tf3x4vC"
   },
   "outputs": [],
   "source": [
    "df['date'] = df['date_time'].str.split().str[0]\n",
    "df['hour'] = df['date_time'].str.split().str[1]\n",
    "\n",
    "df['date'] = pd.to_datetime(df['date'], errors='coerce')\n",
    "df['year'] = df['date'].dt.year\n",
    "df['month'] = df['date'].dt.month\n",
    "df['weekday'] = df['date'].dt.weekday\n",
    "df['day'] = df['date'].dt.day\n",
    "\n",
    "df['hour'] = pd.to_datetime(df['hour'], errors='coerce')\n",
    "df['hour'] = df['hour'].dt.hour\n",
    "\n",
    "df['month-year'] = df['month'].astype(str) +\"-\"+ df['year'].astype(str)"
   ]
  },
  {
   "cell_type": "code",
   "execution_count": null,
   "metadata": {
    "colab": {
     "base_uri": "https://localhost:8080/",
     "height": 298
    },
    "id": "BJeUorka6kqc",
    "outputId": "00290664-5e6b-4275-ab44-e88832a86433"
   },
   "outputs": [],
   "source": [
    "count_classes = pd.value_counts(df['weekday'], sort = True).sort_index()/len(df)\n",
    "count_classes.plot(kind = 'bar', color = 'blue')\n",
    "plt.title(\"Searches per weekday\")\n",
    "plt.ylabel(\"Percentage\")"
   ]
  },
  {
   "cell_type": "code",
   "execution_count": null,
   "metadata": {
    "colab": {
     "base_uri": "https://localhost:8080/",
     "height": 305
    },
    "id": "8HS7y6yzyxLL",
    "outputId": "881fdc8f-0ba3-4b2c-d5d0-ab5980bf844f"
   },
   "outputs": [],
   "source": [
    "count_classes = pd.value_counts(df['hour'], sort = True).sort_index()/len(df)\n",
    "count_classes.plot(kind = 'bar', color = 'orange')\n",
    "plt.title(\"Searches per hour\")\n",
    "plt.ylabel(\"Percentage\")"
   ]
  },
  {
   "cell_type": "code",
   "execution_count": null,
   "metadata": {
    "colab": {
     "base_uri": "https://localhost:8080/",
     "height": 305
    },
    "id": "tFRLFNt355Al",
    "outputId": "2199bd52-3950-45c6-dec1-61512b04533d"
   },
   "outputs": [],
   "source": [
    "count_classes = pd.value_counts(df['month'], sort = True).sort_index()/len(df)\n",
    "count_classes.plot(kind = 'bar', color = 'green')\n",
    "plt.title(\"Searches per month\")\n",
    "plt.ylabel(\"Percentage\")"
   ]
  },
  {
   "cell_type": "code",
   "execution_count": null,
   "metadata": {
    "colab": {
     "base_uri": "https://localhost:8080/",
     "height": 337
    },
    "id": "mFZGEqGI6CzK",
    "outputId": "c1bd6ac7-d3cd-4744-a473-93847e852fc4"
   },
   "outputs": [],
   "source": [
    "count_classes = pd.value_counts(df['month-year'], sort = True).sort_index()/len(df)\n",
    "count_classes.plot(kind = 'bar', color = 'lightcoral')\n",
    "plt.title(\"Searches per month\")\n",
    "plt.ylabel(\"Percentage\")"
   ]
  },
  {
   "cell_type": "markdown",
   "metadata": {
    "id": "U6-HPCY9eJtC"
   },
   "source": [
    "# ***TASK 3: DATA PREPARATION***"
   ]
  },
  {
   "cell_type": "markdown",
   "metadata": {
    "id": "dGOVw9B0jla3"
   },
   "source": [
    "## Imputation:"
   ]
  },
  {
   "cell_type": "markdown",
   "metadata": {
    "id": "DH_aebcQ635U"
   },
   "source": [
    "**Random sample**"
   ]
  },
  {
   "cell_type": "code",
   "execution_count": null,
   "metadata": {
    "id": "B-yys7oNc_h9"
   },
   "outputs": [],
   "source": [
    "import random\n",
    "\n",
    "def RandomImputation(df2, column_name):\n",
    "    df = df2.copy()\n",
    "    for col in df.columns:\n",
    "        data = df[column_name]\n",
    "        mask = data.isnull()\n",
    "        samples = random.choices( data[~mask].values , k = mask.sum() )\n",
    "        data[mask] = samples\n",
    "    return df"
   ]
  },
  {
   "cell_type": "markdown",
   "metadata": {
    "id": "Zj0NHTvK66dA"
   },
   "source": [
    "**Mean**"
   ]
  },
  {
   "cell_type": "code",
   "execution_count": null,
   "metadata": {
    "id": "r1j-NTKHi0w8"
   },
   "outputs": [],
   "source": [
    "def MeanImputation(df2, column_name):\n",
    "  df = df2.copy()\n",
    "  df[column_name].fillna((df[column_name].mean()), inplace=True)\n",
    "  return df"
   ]
  },
  {
   "cell_type": "markdown",
   "metadata": {
    "id": "2YV5aYzP68z_"
   },
   "source": [
    "**Median**"
   ]
  },
  {
   "cell_type": "code",
   "execution_count": null,
   "metadata": {
    "id": "Cq8Yxg0xlAQ9"
   },
   "outputs": [],
   "source": [
    "def MedianImputation(df2, column_name):\n",
    "  df = df2.copy()\n",
    "  df[column_name].fillna((df[column_name].median()), inplace=True)\n",
    "  return df"
   ]
  },
  {
   "cell_type": "markdown",
   "metadata": {
    "id": "3lLKrN5jBP1b"
   },
   "source": [
    "**KNN**"
   ]
  },
  {
   "cell_type": "code",
   "execution_count": null,
   "metadata": {
    "colab": {
     "base_uri": "https://localhost:8080/",
     "height": 206
    },
    "id": "lMS_YKk8DnP8",
    "outputId": "16084fad-11c7-40cd-f045-57b54f95c27e"
   },
   "outputs": [],
   "source": [
    "from sklearn.preprocessing import MinMaxScaler\n",
    "\n",
    "scaler = MinMaxScaler()\n",
    "df_test = pd.DataFrame(scaler.fit_transform(df_test), columns = df_test.columns)\n",
    "df_test.head()"
   ]
  },
  {
   "cell_type": "code",
   "execution_count": null,
   "metadata": {
    "id": "moOzdeWsoQg9"
   },
   "outputs": [],
   "source": [
    "from sklearn.impute import KNNImputer\n",
    "\n",
    "def KNNImputation(df2, column_name):\n",
    "  df = df2.copy()\n",
    "  #df = df.drop(columns='date_time')\n",
    "  imputer = KNNImputer(n_neighbors=5)\n",
    "  df = imputer.fit_transform(df)\n",
    "  return df"
   ]
  },
  {
   "cell_type": "markdown",
   "metadata": {},
   "source": [
    "**MICE**"
   ]
  },
  {
   "cell_type": "code",
   "execution_count": null,
   "metadata": {},
   "outputs": [],
   "source": [
    "from sklearn.linear_model import LinearRegression\n",
    "from sklearn.experimental import enable_iterative_imputer\n",
    "from sklearn.impute import IterativeImputer\n",
    "from sklearn.preprocessing import MinMaxScaler\n",
    "\n",
    "df_test = df.drop([\"srch_id\", \"date_time\", \"position\", \"click_bool\", \"booking_bool\"],\n",
    "                        axis=1)\n",
    "df_test = df_test.astype('float32')\n",
    "imputer = IterativeImputer(estimator=LinearRegression(), random_state=42, n_nearest_features=10, max_iter=10, verbose=2)\n",
    "df_test = pd.DataFrame(imputer.fit_transform(df_test), columns = df_test.columns)\n",
    "df_imputed = pd.concat([df[[\"srch_id\", \"date_time\", \"position\", \"click_bool\", \"booking_bool\"]], df_test], axis=1)\n"
   ]
  },
  {
   "cell_type": "markdown",
   "metadata": {},
   "source": [
    "**Test**"
   ]
  },
  {
   "cell_type": "code",
   "execution_count": null,
   "metadata": {},
   "outputs": [],
   "source": [
    "missing_value_columns = ['prop_location_score2', 'orig_destination_distance']\n",
    "\n",
    "for column in missing_value_columns:\n",
    "    df_new = MeanImputation(df, column)"
   ]
  },
  {
   "cell_type": "markdown",
   "metadata": {
    "id": "8G-Tv0mPbZTf"
   },
   "source": [
    "## Scaling"
   ]
  },
  {
   "cell_type": "code",
   "execution_count": null,
   "metadata": {
    "colab": {
     "base_uri": "https://localhost:8080/",
     "height": 206
    },
    "id": "AvT_j5KVbYHt",
    "outputId": "3c55e496-93c0-419f-8f22-03e4db055514",
    "scrolled": false
   },
   "outputs": [],
   "source": [
    "from sklearn.preprocessing import MinMaxScaler\n",
    "\n",
    "scaler = MinMaxScaler()\n",
    "df_test = df_new.drop([\"srch_id\", \"date_time\", \"position\", \"click_bool\", \"booking_bool\"],\n",
    "                        axis=1)\n",
    "df_test = pd.DataFrame(scaler.fit_transform(df_test), columns = df_test.columns)\n",
    "df_new = pd.concat([df_new[[\"srch_id\", \"date_time\", \"position\", \"click_bool\", \"booking_bool\"]], df_test], axis=1)"
   ]
  },
  {
   "cell_type": "markdown",
   "metadata": {
    "id": "kKZPD1gRbP8j"
   },
   "source": [
    "## Balancing"
   ]
  },
  {
   "cell_type": "code",
   "execution_count": null,
   "metadata": {
    "colab": {
     "base_uri": "https://localhost:8080/"
    },
    "id": "5P-YQ_A3bNSQ",
    "outputId": "ce17ac1f-34ae-475a-b1a9-45f44da7c7dc"
   },
   "outputs": [],
   "source": [
    "not_click_indices = df[df.click_bool == 0].index\n",
    "not_click_indices = np.random.choice(not_click_indices, len(df.loc[df.click_bool == 0]) - len(df.loc[df.click_bool == 1]), replace=False)\n",
    "df_new = df.drop(df.index[not_click_indices])\n",
    "\n",
    "print(\"Percentage of not click impressions: \", len(df_new[df_new.click_bool == 0])/len(df_new))\n",
    "print(\"Percentage of click impression: \", len(df_new[df_new.click_bool == 1])/len(df_new))\n",
    "print(\"Total number of records in resampled data: \", len(df_new))"
   ]
  },
  {
   "cell_type": "markdown",
   "metadata": {},
   "source": [
    "## Feature engineering"
   ]
  },
  {
   "cell_type": "code",
   "execution_count": 8,
   "metadata": {},
   "outputs": [],
   "source": [
    "# Get year, month, day \n",
    "df['date'] = df['date_time'].str.split().str[0]\n",
    "df['hour'] = df['date_time'].str.split().str[1]\n",
    "\n",
    "df['date'] = pd.to_datetime(df['date'], errors='coerce')\n",
    "df['year'] = df['date'].dt.year\n",
    "df['month'] = df['date'].dt.month\n",
    "df['weekday'] = df['date'].dt.weekday\n",
    "df['day'] = df['date'].dt.day\n",
    "\n",
    "df['hour'] = pd.to_datetime(df['hour'], errors='coerce')\n",
    "df['hour'] = df['hour'].dt.hour"
   ]
  },
  {
   "cell_type": "code",
   "execution_count": 20,
   "metadata": {},
   "outputs": [],
   "source": [
    "# Count previous bookings per property id, and count previous clicks per property id\n",
    "count_booking = {}\n",
    "count_clicks = {}\n",
    "count_prop = {}\n",
    "for index, row in df.iterrows():\n",
    "    if row['prop_id'] not in count_prop:\n",
    "        count_prop[row[\"prop_id\"]] = 1\n",
    "    elif row['prop_id'] in count_prop:\n",
    "        count_prop[row[\"prop_id\"]] += 1\n",
    "    if row[\"prop_id\"] not in count_booking:\n",
    "        count_booking[row[\"prop_id\"]] = row['booking_bool']\n",
    "    elif row[\"prop_id\"] in count_booking:\n",
    "        count_booking[row[\"prop_id\"]] += row['booking_bool']\n",
    "    if row[\"prop_id\"] not in count_clicks:\n",
    "        count_clicks[row[\"prop_id\"]] = row['click_bool']\n",
    "    elif row[\"prop_id\"] in count_clicks:\n",
    "        count_clicks[row[\"prop_id\"]] += row['click_bool']"
   ]
  },
  {
   "cell_type": "code",
   "execution_count": 22,
   "metadata": {},
   "outputs": [],
   "source": [
    "df['count_booked'] = None\n",
    "df['count_clicked'] = None\n",
    "df['count_booked_per_prop'] = None\n",
    "df['count_clicked_per_prop'] = None \n",
    "for index, row in df.iterrows():\n",
    "    df.at[index, 'count_booked'] = count_booking[row['prop_id']]\n",
    "    df.at[index, 'count_clicked'] = count_clicks[row['prop_id']]\n",
    "    df.at[index, 'count_booked_per_prop'] = count_booking[row['prop_id']] / count_prop[row['prop_id']]\n",
    "    df.at[index, 'count_clicked_per_prop'] = count_clicks[row['prop_id']] / count_prop[row['prop_id']]"
   ]
  },
  {
   "cell_type": "code",
   "execution_count": 23,
   "metadata": {},
   "outputs": [],
   "source": [
    "# Difference between historical star rating and current search \n",
    "df['star_diff'] = abs(df['visitor_hist_starrating'] - df['prop_starrating'])\n",
    "\n",
    "# Difference between historical price per night and current price of search\n",
    "df['price_diff'] = abs(df['visitor_hist_adr_usd'] - df['price_usd'])"
   ]
  },
  {
   "cell_type": "code",
   "execution_count": 28,
   "metadata": {},
   "outputs": [],
   "source": [
    "# Total fee is price usd * room count\n",
    "df['total_fee'] = df['price_usd'] * df['srch_room_count']"
   ]
  },
  {
   "cell_type": "code",
   "execution_count": 31,
   "metadata": {},
   "outputs": [],
   "source": [
    "# Price per adult is (price usd * room count)/ adult count\n",
    "df['price_per_person'] = (df['price_usd'] * df['srch_room_count']) / df['srch_adults_count']"
   ]
  },
  {
   "cell_type": "code",
   "execution_count": 32,
   "metadata": {},
   "outputs": [
    {
     "data": {
      "text/html": [
       "<div>\n",
       "<style scoped>\n",
       "    .dataframe tbody tr th:only-of-type {\n",
       "        vertical-align: middle;\n",
       "    }\n",
       "\n",
       "    .dataframe tbody tr th {\n",
       "        vertical-align: top;\n",
       "    }\n",
       "\n",
       "    .dataframe thead th {\n",
       "        text-align: right;\n",
       "    }\n",
       "</style>\n",
       "<table border=\"1\" class=\"dataframe\">\n",
       "  <thead>\n",
       "    <tr style=\"text-align: right;\">\n",
       "      <th></th>\n",
       "      <th>srch_id</th>\n",
       "      <th>date_time</th>\n",
       "      <th>site_id</th>\n",
       "      <th>visitor_location_country_id</th>\n",
       "      <th>visitor_hist_starrating</th>\n",
       "      <th>visitor_hist_adr_usd</th>\n",
       "      <th>prop_country_id</th>\n",
       "      <th>prop_id</th>\n",
       "      <th>prop_starrating</th>\n",
       "      <th>prop_review_score</th>\n",
       "      <th>...</th>\n",
       "      <th>day</th>\n",
       "      <th>month-year</th>\n",
       "      <th>count_booked</th>\n",
       "      <th>count_clicked</th>\n",
       "      <th>star_diff</th>\n",
       "      <th>price_diff</th>\n",
       "      <th>count_booked_per_prop</th>\n",
       "      <th>count_clicked_per_prop</th>\n",
       "      <th>total_fee</th>\n",
       "      <th>price_per_person</th>\n",
       "    </tr>\n",
       "  </thead>\n",
       "  <tbody>\n",
       "    <tr>\n",
       "      <th>0</th>\n",
       "      <td>1</td>\n",
       "      <td>2013-04-04 08:32:15</td>\n",
       "      <td>12</td>\n",
       "      <td>187</td>\n",
       "      <td>NaN</td>\n",
       "      <td>NaN</td>\n",
       "      <td>219</td>\n",
       "      <td>893</td>\n",
       "      <td>3</td>\n",
       "      <td>3.5</td>\n",
       "      <td>...</td>\n",
       "      <td>4</td>\n",
       "      <td>4-2013</td>\n",
       "      <td>10</td>\n",
       "      <td>16</td>\n",
       "      <td>NaN</td>\n",
       "      <td>NaN</td>\n",
       "      <td>0.01634</td>\n",
       "      <td>0.026144</td>\n",
       "      <td>104.77</td>\n",
       "      <td>26.192500</td>\n",
       "    </tr>\n",
       "    <tr>\n",
       "      <th>1</th>\n",
       "      <td>1</td>\n",
       "      <td>2013-04-04 08:32:15</td>\n",
       "      <td>12</td>\n",
       "      <td>187</td>\n",
       "      <td>NaN</td>\n",
       "      <td>NaN</td>\n",
       "      <td>219</td>\n",
       "      <td>10404</td>\n",
       "      <td>4</td>\n",
       "      <td>4.0</td>\n",
       "      <td>...</td>\n",
       "      <td>4</td>\n",
       "      <td>4-2013</td>\n",
       "      <td>9</td>\n",
       "      <td>15</td>\n",
       "      <td>NaN</td>\n",
       "      <td>NaN</td>\n",
       "      <td>0.015437</td>\n",
       "      <td>0.025729</td>\n",
       "      <td>170.74</td>\n",
       "      <td>42.685000</td>\n",
       "    </tr>\n",
       "    <tr>\n",
       "      <th>2</th>\n",
       "      <td>1</td>\n",
       "      <td>2013-04-04 08:32:15</td>\n",
       "      <td>12</td>\n",
       "      <td>187</td>\n",
       "      <td>NaN</td>\n",
       "      <td>NaN</td>\n",
       "      <td>219</td>\n",
       "      <td>21315</td>\n",
       "      <td>3</td>\n",
       "      <td>4.5</td>\n",
       "      <td>...</td>\n",
       "      <td>4</td>\n",
       "      <td>4-2013</td>\n",
       "      <td>2</td>\n",
       "      <td>5</td>\n",
       "      <td>NaN</td>\n",
       "      <td>NaN</td>\n",
       "      <td>0.00363</td>\n",
       "      <td>0.009074</td>\n",
       "      <td>179.80</td>\n",
       "      <td>44.950000</td>\n",
       "    </tr>\n",
       "    <tr>\n",
       "      <th>3</th>\n",
       "      <td>1</td>\n",
       "      <td>2013-04-04 08:32:15</td>\n",
       "      <td>12</td>\n",
       "      <td>187</td>\n",
       "      <td>NaN</td>\n",
       "      <td>NaN</td>\n",
       "      <td>219</td>\n",
       "      <td>27348</td>\n",
       "      <td>2</td>\n",
       "      <td>4.0</td>\n",
       "      <td>...</td>\n",
       "      <td>4</td>\n",
       "      <td>4-2013</td>\n",
       "      <td>6</td>\n",
       "      <td>11</td>\n",
       "      <td>NaN</td>\n",
       "      <td>NaN</td>\n",
       "      <td>0.013043</td>\n",
       "      <td>0.023913</td>\n",
       "      <td>602.77</td>\n",
       "      <td>150.692500</td>\n",
       "    </tr>\n",
       "    <tr>\n",
       "      <th>4</th>\n",
       "      <td>1</td>\n",
       "      <td>2013-04-04 08:32:15</td>\n",
       "      <td>12</td>\n",
       "      <td>187</td>\n",
       "      <td>NaN</td>\n",
       "      <td>NaN</td>\n",
       "      <td>219</td>\n",
       "      <td>29604</td>\n",
       "      <td>4</td>\n",
       "      <td>3.5</td>\n",
       "      <td>...</td>\n",
       "      <td>4</td>\n",
       "      <td>4-2013</td>\n",
       "      <td>24</td>\n",
       "      <td>34</td>\n",
       "      <td>NaN</td>\n",
       "      <td>NaN</td>\n",
       "      <td>0.03609</td>\n",
       "      <td>0.051128</td>\n",
       "      <td>143.58</td>\n",
       "      <td>35.895000</td>\n",
       "    </tr>\n",
       "    <tr>\n",
       "      <th>...</th>\n",
       "      <td>...</td>\n",
       "      <td>...</td>\n",
       "      <td>...</td>\n",
       "      <td>...</td>\n",
       "      <td>...</td>\n",
       "      <td>...</td>\n",
       "      <td>...</td>\n",
       "      <td>...</td>\n",
       "      <td>...</td>\n",
       "      <td>...</td>\n",
       "      <td>...</td>\n",
       "      <td>...</td>\n",
       "      <td>...</td>\n",
       "      <td>...</td>\n",
       "      <td>...</td>\n",
       "      <td>...</td>\n",
       "      <td>...</td>\n",
       "      <td>...</td>\n",
       "      <td>...</td>\n",
       "      <td>...</td>\n",
       "      <td>...</td>\n",
       "    </tr>\n",
       "    <tr>\n",
       "      <th>4958342</th>\n",
       "      <td>332785</td>\n",
       "      <td>2013-06-30 19:55:18</td>\n",
       "      <td>5</td>\n",
       "      <td>219</td>\n",
       "      <td>NaN</td>\n",
       "      <td>NaN</td>\n",
       "      <td>219</td>\n",
       "      <td>77700</td>\n",
       "      <td>3</td>\n",
       "      <td>4.0</td>\n",
       "      <td>...</td>\n",
       "      <td>30</td>\n",
       "      <td>6-2013</td>\n",
       "      <td>2</td>\n",
       "      <td>3</td>\n",
       "      <td>NaN</td>\n",
       "      <td>NaN</td>\n",
       "      <td>0.042553</td>\n",
       "      <td>0.06383</td>\n",
       "      <td>118.00</td>\n",
       "      <td>39.333333</td>\n",
       "    </tr>\n",
       "    <tr>\n",
       "      <th>4958343</th>\n",
       "      <td>332785</td>\n",
       "      <td>2013-06-30 19:55:18</td>\n",
       "      <td>5</td>\n",
       "      <td>219</td>\n",
       "      <td>NaN</td>\n",
       "      <td>NaN</td>\n",
       "      <td>219</td>\n",
       "      <td>88083</td>\n",
       "      <td>3</td>\n",
       "      <td>4.0</td>\n",
       "      <td>...</td>\n",
       "      <td>30</td>\n",
       "      <td>6-2013</td>\n",
       "      <td>6</td>\n",
       "      <td>7</td>\n",
       "      <td>NaN</td>\n",
       "      <td>NaN</td>\n",
       "      <td>0.157895</td>\n",
       "      <td>0.184211</td>\n",
       "      <td>89.00</td>\n",
       "      <td>29.666667</td>\n",
       "    </tr>\n",
       "    <tr>\n",
       "      <th>4958344</th>\n",
       "      <td>332785</td>\n",
       "      <td>2013-06-30 19:55:18</td>\n",
       "      <td>5</td>\n",
       "      <td>219</td>\n",
       "      <td>NaN</td>\n",
       "      <td>NaN</td>\n",
       "      <td>219</td>\n",
       "      <td>94508</td>\n",
       "      <td>3</td>\n",
       "      <td>3.5</td>\n",
       "      <td>...</td>\n",
       "      <td>30</td>\n",
       "      <td>6-2013</td>\n",
       "      <td>0</td>\n",
       "      <td>1</td>\n",
       "      <td>NaN</td>\n",
       "      <td>NaN</td>\n",
       "      <td>0.0</td>\n",
       "      <td>0.023256</td>\n",
       "      <td>99.00</td>\n",
       "      <td>33.000000</td>\n",
       "    </tr>\n",
       "    <tr>\n",
       "      <th>4958345</th>\n",
       "      <td>332785</td>\n",
       "      <td>2013-06-30 19:55:18</td>\n",
       "      <td>5</td>\n",
       "      <td>219</td>\n",
       "      <td>NaN</td>\n",
       "      <td>NaN</td>\n",
       "      <td>219</td>\n",
       "      <td>128360</td>\n",
       "      <td>3</td>\n",
       "      <td>5.0</td>\n",
       "      <td>...</td>\n",
       "      <td>30</td>\n",
       "      <td>6-2013</td>\n",
       "      <td>3</td>\n",
       "      <td>4</td>\n",
       "      <td>NaN</td>\n",
       "      <td>NaN</td>\n",
       "      <td>0.081081</td>\n",
       "      <td>0.108108</td>\n",
       "      <td>139.00</td>\n",
       "      <td>46.333333</td>\n",
       "    </tr>\n",
       "    <tr>\n",
       "      <th>4958346</th>\n",
       "      <td>332785</td>\n",
       "      <td>2013-06-30 19:55:18</td>\n",
       "      <td>5</td>\n",
       "      <td>219</td>\n",
       "      <td>NaN</td>\n",
       "      <td>NaN</td>\n",
       "      <td>219</td>\n",
       "      <td>134949</td>\n",
       "      <td>3</td>\n",
       "      <td>2.5</td>\n",
       "      <td>...</td>\n",
       "      <td>30</td>\n",
       "      <td>6-2013</td>\n",
       "      <td>1</td>\n",
       "      <td>2</td>\n",
       "      <td>NaN</td>\n",
       "      <td>NaN</td>\n",
       "      <td>0.083333</td>\n",
       "      <td>0.166667</td>\n",
       "      <td>61.00</td>\n",
       "      <td>20.333333</td>\n",
       "    </tr>\n",
       "  </tbody>\n",
       "</table>\n",
       "<p>4958347 rows × 69 columns</p>\n",
       "</div>"
      ],
      "text/plain": [
       "         srch_id            date_time  site_id  visitor_location_country_id  \\\n",
       "0              1  2013-04-04 08:32:15       12                          187   \n",
       "1              1  2013-04-04 08:32:15       12                          187   \n",
       "2              1  2013-04-04 08:32:15       12                          187   \n",
       "3              1  2013-04-04 08:32:15       12                          187   \n",
       "4              1  2013-04-04 08:32:15       12                          187   \n",
       "...          ...                  ...      ...                          ...   \n",
       "4958342   332785  2013-06-30 19:55:18        5                          219   \n",
       "4958343   332785  2013-06-30 19:55:18        5                          219   \n",
       "4958344   332785  2013-06-30 19:55:18        5                          219   \n",
       "4958345   332785  2013-06-30 19:55:18        5                          219   \n",
       "4958346   332785  2013-06-30 19:55:18        5                          219   \n",
       "\n",
       "         visitor_hist_starrating  visitor_hist_adr_usd  prop_country_id  \\\n",
       "0                            NaN                   NaN              219   \n",
       "1                            NaN                   NaN              219   \n",
       "2                            NaN                   NaN              219   \n",
       "3                            NaN                   NaN              219   \n",
       "4                            NaN                   NaN              219   \n",
       "...                          ...                   ...              ...   \n",
       "4958342                      NaN                   NaN              219   \n",
       "4958343                      NaN                   NaN              219   \n",
       "4958344                      NaN                   NaN              219   \n",
       "4958345                      NaN                   NaN              219   \n",
       "4958346                      NaN                   NaN              219   \n",
       "\n",
       "         prop_id  prop_starrating  prop_review_score  ...  day  month-year  \\\n",
       "0            893                3                3.5  ...    4      4-2013   \n",
       "1          10404                4                4.0  ...    4      4-2013   \n",
       "2          21315                3                4.5  ...    4      4-2013   \n",
       "3          27348                2                4.0  ...    4      4-2013   \n",
       "4          29604                4                3.5  ...    4      4-2013   \n",
       "...          ...              ...                ...  ...  ...         ...   \n",
       "4958342    77700                3                4.0  ...   30      6-2013   \n",
       "4958343    88083                3                4.0  ...   30      6-2013   \n",
       "4958344    94508                3                3.5  ...   30      6-2013   \n",
       "4958345   128360                3                5.0  ...   30      6-2013   \n",
       "4958346   134949                3                2.5  ...   30      6-2013   \n",
       "\n",
       "         count_booked  count_clicked  star_diff  price_diff  \\\n",
       "0                  10             16        NaN         NaN   \n",
       "1                   9             15        NaN         NaN   \n",
       "2                   2              5        NaN         NaN   \n",
       "3                   6             11        NaN         NaN   \n",
       "4                  24             34        NaN         NaN   \n",
       "...               ...            ...        ...         ...   \n",
       "4958342             2              3        NaN         NaN   \n",
       "4958343             6              7        NaN         NaN   \n",
       "4958344             0              1        NaN         NaN   \n",
       "4958345             3              4        NaN         NaN   \n",
       "4958346             1              2        NaN         NaN   \n",
       "\n",
       "         count_booked_per_prop  count_clicked_per_prop  total_fee  \\\n",
       "0                      0.01634                0.026144     104.77   \n",
       "1                     0.015437                0.025729     170.74   \n",
       "2                      0.00363                0.009074     179.80   \n",
       "3                     0.013043                0.023913     602.77   \n",
       "4                      0.03609                0.051128     143.58   \n",
       "...                        ...                     ...        ...   \n",
       "4958342               0.042553                 0.06383     118.00   \n",
       "4958343               0.157895                0.184211      89.00   \n",
       "4958344                    0.0                0.023256      99.00   \n",
       "4958345               0.081081                0.108108     139.00   \n",
       "4958346               0.083333                0.166667      61.00   \n",
       "\n",
       "         price_per_person  \n",
       "0               26.192500  \n",
       "1               42.685000  \n",
       "2               44.950000  \n",
       "3              150.692500  \n",
       "4               35.895000  \n",
       "...                   ...  \n",
       "4958342         39.333333  \n",
       "4958343         29.666667  \n",
       "4958344         33.000000  \n",
       "4958345         46.333333  \n",
       "4958346         20.333333  \n",
       "\n",
       "[4958347 rows x 69 columns]"
      ]
     },
     "execution_count": 32,
     "metadata": {},
     "output_type": "execute_result"
    }
   ],
   "source": [
    "df\n",
    "# df.to_csv ('feature_eng_part1.csv')"
   ]
  },
  {
   "cell_type": "markdown",
   "metadata": {
    "id": "HTWf8rxY7YHh"
   },
   "source": [
    "# ***TASK 4: Modeling***"
   ]
  },
  {
   "cell_type": "markdown",
   "metadata": {
    "id": "10TrgXZCWL_L"
   },
   "source": [
    "**Define model**"
   ]
  },
  {
   "cell_type": "code",
   "execution_count": 7,
   "metadata": {
    "id": "NcFLFF7kWOkY"
   },
   "outputs": [
    {
     "name": "stdout",
     "output_type": "stream",
     "text": [
      "Requirement already satisfied: lightgbm in /Users/sarahdeboer/opt/anaconda3/envs/dmt/lib/python3.8/site-packages (3.3.2)\r\n",
      "Requirement already satisfied: numpy in /Users/sarahdeboer/opt/anaconda3/envs/dmt/lib/python3.8/site-packages (from lightgbm) (1.21.5)\r\n",
      "Requirement already satisfied: scipy in /Users/sarahdeboer/opt/anaconda3/envs/dmt/lib/python3.8/site-packages (from lightgbm) (1.7.3)\r\n",
      "Requirement already satisfied: wheel in /Users/sarahdeboer/opt/anaconda3/envs/dmt/lib/python3.8/site-packages (from lightgbm) (0.37.1)\r\n",
      "Requirement already satisfied: scikit-learn!=0.22.0 in /Users/sarahdeboer/opt/anaconda3/envs/dmt/lib/python3.8/site-packages (from lightgbm) (1.0.2)\r\n",
      "Requirement already satisfied: joblib>=0.11 in /Users/sarahdeboer/opt/anaconda3/envs/dmt/lib/python3.8/site-packages (from scikit-learn!=0.22.0->lightgbm) (1.1.0)\r\n",
      "Requirement already satisfied: threadpoolctl>=2.0.0 in /Users/sarahdeboer/opt/anaconda3/envs/dmt/lib/python3.8/site-packages (from scikit-learn!=0.22.0->lightgbm) (2.2.0)\r\n"
     ]
    }
   ],
   "source": [
    "import sys\n",
    "!{sys.executable} -m pip install lightgbm\n",
    "import lightgbm\n",
    "\n",
    "model = lightgbm.LGBMRanker(\n",
    "    objective=\"lambdarank\",\n",
    "    metric=\"ndcg\",\n",
    "    num_leaves=15,\n",
    "    boosting=\"gbdt\",\n",
    "    num_iterations=850,\n",
    "    learning_rate=0.1,\n",
    "    max_bin=255,\n",
    "    min_data_in_leaf=0,\n",
    "    min_sum_hessian_in_leaf=300,\n",
    "    num_estimators=100,\n",
    "    label_gain=[0,1,1,1,1,1],\n",
    "    lambdarank_norm=True,\n",
    "    lambdarank_truncation_level=5,\n",
    ")"
   ]
  },
  {
   "cell_type": "markdown",
   "metadata": {
    "id": "GM52zdGg7rN8"
   },
   "source": [
    "## Validation:"
   ]
  },
  {
   "cell_type": "markdown",
   "metadata": {
    "id": "7FsaOG5I8JEV"
   },
   "source": [
    "**Get train/val split**"
   ]
  },
  {
   "cell_type": "code",
   "execution_count": 8,
   "metadata": {
    "colab": {
     "base_uri": "https://localhost:8080/",
     "height": 235
    },
    "id": "AQ1uLboO8Ifm",
    "outputId": "399493c3-1cf0-46b6-972b-8b520b82af8f"
   },
   "outputs": [
    {
     "name": "stdout",
     "output_type": "stream",
     "text": [
      "(100, 21)\n"
     ]
    }
   ],
   "source": [
    "from sklearn.linear_model import LinearRegression\n",
    "from sklearn.experimental import enable_iterative_imputer\n",
    "from sklearn.impute import IterativeImputer\n",
    "from sklearn.model_selection import GroupShuffleSplit\n",
    "\n",
    "splitter = GroupShuffleSplit(test_size=.10, n_splits=1, random_state=42)\n",
    "split = splitter.split(df, groups=df['srch_id'])\n",
    "train_inds, val_inds = next(split)\n",
    "\n",
    "train_df = df.iloc[train_inds]\n",
    "validation_df = df.iloc[val_inds]\n",
    "\n",
    "qids_train = train_df.groupby(\"srch_id\")[\"srch_id\"].count().to_numpy()\n",
    "X_train = train_df.drop([\"srch_id\", \"date_time\", \"position\", \"click_bool\", \"booking_bool\"],\n",
    "                        axis=1)\n",
    "y_train = train_df[\"booking_bool\"] * 4 + train_df[\"click_bool\"]\n",
    "print(X_train[0:100].shape)\n",
    "\n",
    "qids_validation = validation_df.groupby(\"srch_id\")[\"srch_id\"].count().to_numpy()\n",
    "X_validation = validation_df.drop(\n",
    "    [\"srch_id\", \"date_time\", \"position\", \"click_bool\", \"booking_bool\"], axis=1)\n",
    "y_validation = validation_df[\"booking_bool\"] * 4 + validation_df[\"click_bool\"]"
   ]
  },
  {
   "cell_type": "markdown",
   "metadata": {
    "id": "rDvzVVVx8Sv2"
   },
   "source": [
    "**Fit model**"
   ]
  },
  {
   "cell_type": "code",
   "execution_count": null,
   "metadata": {
    "id": "9-mdfR9J8Dh7",
    "pycharm": {
     "is_executing": true
    },
    "scrolled": false
   },
   "outputs": [],
   "source": [
    "model.fit(\n",
    "    X=X_train[0:100],\n",
    "    y=y_train[0:100],\n",
    "    categorical_feature=[\"site_id\", \"visitor_location_country_id\", \"prop_country_id\", \"prop_id\", \"prop_brand_bool\",\n",
    "                         \"promotion_flag\", \"srch_destination_id\", \"srch_saturday_night_bool\", \"random_bool\"],\n",
    "    group=qids_train,\n",
    "    eval_set=[(X_validation[0:100], y_validation[0:100])],\n",
    "    eval_group=[qids_validation],\n",
    "    eval_at=5,\n",
    "    verbose=10,\n",
    ")"
   ]
  },
  {
   "cell_type": "markdown",
   "metadata": {
    "id": "DVSaXoL67tsp"
   },
   "source": [
    "## Testing:"
   ]
  },
  {
   "cell_type": "markdown",
   "metadata": {
    "id": "3tL5aFhb87G2"
   },
   "source": [
    "**Get all train & test data**"
   ]
  },
  {
   "cell_type": "code",
   "execution_count": 4,
   "metadata": {
    "id": "0o8PA0BL8_Aj",
    "scrolled": false
   },
   "outputs": [
    {
     "name": "stdout",
     "output_type": "stream",
     "text": [
      "[IterativeImputer] Completing matrix with shape (4959183, 48)\n",
      "[IterativeImputer] Ending imputation round 1/5, elapsed time 65.60\n",
      "[IterativeImputer] Change: 719524.375, scaled tolerance: 9661.34 \n",
      "[IterativeImputer] Ending imputation round 2/5, elapsed time 130.20\n",
      "[IterativeImputer] Change: 1655284.125, scaled tolerance: 9661.34 \n",
      "[IterativeImputer] Ending imputation round 3/5, elapsed time 196.80\n",
      "[IterativeImputer] Change: 3057928.25, scaled tolerance: 9661.34 \n",
      "[IterativeImputer] Ending imputation round 4/5, elapsed time 273.11\n",
      "[IterativeImputer] Change: 5344141.0, scaled tolerance: 9661.34 \n",
      "[IterativeImputer] Ending imputation round 5/5, elapsed time 349.46\n",
      "[IterativeImputer] Change: 7492454.0, scaled tolerance: 9661.34 \n"
     ]
    },
    {
     "name": "stderr",
     "output_type": "stream",
     "text": [
      "C:\\Users\\Jamie\\anaconda3\\lib\\site-packages\\sklearn\\impute\\_iterative.py:685: ConvergenceWarning: [IterativeImputer] Early stopping criterion not reached.\n",
      "  warnings.warn(\"[IterativeImputer] Early stopping criterion not\"\n"
     ]
    },
    {
     "name": "stdout",
     "output_type": "stream",
     "text": [
      "[IterativeImputer] Completing matrix with shape (4958347, 48)\n",
      "[IterativeImputer] Ending imputation round 1/5, elapsed time 15.13\n",
      "[IterativeImputer] Ending imputation round 2/5, elapsed time 29.92\n",
      "[IterativeImputer] Ending imputation round 3/5, elapsed time 44.84\n",
      "[IterativeImputer] Ending imputation round 4/5, elapsed time 59.64\n",
      "[IterativeImputer] Ending imputation round 5/5, elapsed time 74.54\n"
     ]
    }
   ],
   "source": [
    "from sklearn.linear_model import LinearRegression\n",
    "from sklearn.experimental import enable_iterative_imputer\n",
    "from sklearn.impute import IterativeImputer\n",
    "\n",
    "test_df = pd.read_csv('test_set_VU_DM.csv')\n",
    "\n",
    "qids_train = train_df.groupby(\"srch_id\")[\"srch_id\"].count().to_numpy()\n",
    "X_train = train_df.drop([\"srch_id\", \"date_time\", \"position\", \"click_bool\", \"booking_bool\", \"gross_bookings_usd\"],\n",
    "                        axis=1)\n",
    "y_train = train_df[\"booking_bool\"] * 4 + train_df[\"click_bool\"]\n",
    "\n",
    "qids_test = test_df.groupby(\"srch_id\")[\"srch_id\"].count().to_numpy()\n",
    "X_test = test_df.drop([\"srch_id\", \"date_time\"], axis=1)"
   ]
  },
  {
   "cell_type": "markdown",
   "metadata": {
    "id": "IbpsuWBg9kgR"
   },
   "source": [
    "**fit model**"
   ]
  },
  {
   "cell_type": "code",
   "execution_count": 5,
   "metadata": {
    "id": "ESkXAK5x9nJJ",
    "scrolled": true
   },
   "outputs": [
    {
     "name": "stderr",
     "output_type": "stream",
     "text": [
      "C:\\Users\\Jamie\\anaconda3\\lib\\site-packages\\lightgbm\\engine.py:177: UserWarning: Found `num_iterations` in params. Will use it instead of argument\n",
      "  _log_warning(f\"Found `{alias}` in params. Will use it instead of argument\")\n",
      "C:\\Users\\Jamie\\anaconda3\\lib\\site-packages\\lightgbm\\basic.py:2065: UserWarning: Using categorical_feature in Dataset.\n",
      "  _log_warning('Using categorical_feature in Dataset.')\n"
     ]
    },
    {
     "name": "stdout",
     "output_type": "stream",
     "text": [
      "[LightGBM] [Warning] Unknown parameter: num_estimators\n",
      "[LightGBM] [Warning] boosting is set=gbdt, boosting_type=gbdt will be ignored. Current value: boosting=gbdt\n",
      "[LightGBM] [Warning] min_data_in_leaf is set=0, min_child_samples=20 will be ignored. Current value: min_data_in_leaf=0\n",
      "[LightGBM] [Warning] min_sum_hessian_in_leaf is set=300, min_child_weight=0.001 will be ignored. Current value: min_sum_hessian_in_leaf=300\n"
     ]
    },
    {
     "data": {
      "text/plain": [
       "LGBMRanker(boosting='gbdt', label_gain=[0, 1, 1, 1, 1, 1], lambdarank_norm=True,\n",
       "           lambdarank_truncation_level=5, max_bin=255, metric='ndcg',\n",
       "           min_data_in_leaf=0, min_sum_hessian_in_leaf=300, num_estimators=100,\n",
       "           num_iterations=850, num_leaves=15, objective='lambdarank')"
      ]
     },
     "execution_count": 5,
     "metadata": {},
     "output_type": "execute_result"
    }
   ],
   "source": [
    "model.fit(\n",
    "    X=X_train,\n",
    "    y=y_train,\n",
    "    categorical_feature=[\"site_id\", \"visitor_location_country_id\", \"prop_country_id\", \"prop_id\", \"prop_brand_bool\",\n",
    "                         \"promotion_flag\", \"srch_destination_id\", \"srch_saturday_night_bool\", \"random_bool\"],\n",
    "    group=qids_train,\n",
    ")"
   ]
  },
  {
   "cell_type": "markdown",
   "metadata": {
    "id": "E1iCblH090FJ"
   },
   "source": [
    "**Make predictions and write to csv**"
   ]
  },
  {
   "cell_type": "code",
   "execution_count": 6,
   "metadata": {
    "id": "Ta5Ge2gx96Ye"
   },
   "outputs": [],
   "source": [
    "import csv\n",
    "from operator import itemgetter\n",
    "\n",
    "predictions = model.predict(X=X_test, num_iteration=0)\n",
    "predictions = list(-1.0 * predictions)\n",
    "\n",
    "recommendations = zip(test_df[\"srch_id\"], test_df[\"prop_id\"], predictions)\n",
    "rows = [(srch_id, prop_id)\n",
    "        for srch_id, prop_id, rank_float\n",
    "        in sorted(recommendations, key=itemgetter(0, 2))]\n",
    "writer = csv.writer(open(\"submission.csv\", \"w\"), lineterminator=\"\\n\")\n",
    "writer.writerow((\"srch_id\", \"prop_id\"))\n",
    "writer.writerows(rows)"
   ]
  },
  {
   "cell_type": "code",
   "execution_count": null,
   "metadata": {},
   "outputs": [],
   "source": []
  }
 ],
 "metadata": {
  "colab": {
   "collapsed_sections": [],
   "name": "DataMiningTechniquesAssignment2.ipynb",
   "provenance": []
  },
  "kernelspec": {
   "display_name": "Python 3",
   "language": "python",
   "name": "python3"
  },
  "language_info": {
   "codemirror_mode": {
    "name": "ipython",
    "version": 3
   },
   "file_extension": ".py",
   "mimetype": "text/x-python",
   "name": "python",
   "nbconvert_exporter": "python",
   "pygments_lexer": "ipython3",
   "version": "3.8.8"
  }
 },
 "nbformat": 4,
 "nbformat_minor": 1
}
